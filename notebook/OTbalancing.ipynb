{
 "cells": [
  {
   "cell_type": "code",
   "execution_count": 1,
   "id": "a47b8e81-a3e8-4bfe-af41-e2047775d1ce",
   "metadata": {},
   "outputs": [],
   "source": [
    "import numpy as np\n",
    "import torch\n",
    "from OptimalTransportBalancing import OptimalTransportBalancing as OTB\n",
    "import matplotlib.pyplot as plt\n",
    "%matplotlib inline"
   ]
  },
  {
   "cell_type": "markdown",
   "id": "3d94bdd1-df03-4a5e-ba27-f2a0eb00537d",
   "metadata": {},
   "source": [
    "## Build sythetic data set"
   ]
  },
  {
   "cell_type": "code",
   "execution_count": 2,
   "id": "5f9823d2-87d5-464c-9406-53578a0fdc81",
   "metadata": {},
   "outputs": [],
   "source": [
    "n = 500\n",
    "m = 420\n",
    "xi = torch.normal(mean = -1, std = 3, size = (n,1))\n",
    "xi_ring = torch.zeros(size = (m,1))\n",
    "for i in range(m):\n",
    "    if torch.rand(1).item()>0.3:\n",
    "        xi_ring[i,0] = torch.normal(mean = -4, std = 2, size = (1,)).item()\n",
    "    else:\n",
    "        xi_ring[i,0] = torch.normal(mean = 3, std = 0.2, size = (1,)).item()"
   ]
  },
  {
   "cell_type": "markdown",
   "id": "15a9e91e-02ac-402c-96f2-87f51d9c6602",
   "metadata": {},
   "source": [
    "## Define OptimalTransportBalancing class"
   ]
  },
  {
   "cell_type": "code",
   "execution_count": 3,
   "id": "ef077ba8-0b10-4f58-a42e-aa9060cb4313",
   "metadata": {},
   "outputs": [],
   "source": [
    "OTB = OTB()"
   ]
  },
  {
   "cell_type": "markdown",
   "id": "62970661-9969-4712-bfbd-bb3b155c6215",
   "metadata": {},
   "source": [
    "## Get optimal weights for the source measure"
   ]
  },
  {
   "cell_type": "code",
   "execution_count": 4,
   "id": "e51e6ed9-89b7-4585-b162-5d4c7e58677d",
   "metadata": {},
   "outputs": [],
   "source": [
    "w_ring = OTB.get_weights(xi,xi_ring)"
   ]
  },
  {
   "cell_type": "markdown",
   "id": "65fa751b-d9c7-4016-980c-d7e638ee31d3",
   "metadata": {},
   "source": [
    "## Viz"
   ]
  },
  {
   "cell_type": "code",
   "execution_count": 5,
   "id": "15092da7-62dc-4eff-a279-a91afc3b7a2b",
   "metadata": {},
   "outputs": [
    {
     "data": {
      "text/plain": [
       "<matplotlib.legend.Legend at 0x1d90837b760>"
      ]
     },
     "execution_count": 5,
     "metadata": {},
     "output_type": "execute_result"
    },
    {
     "data": {
      "image/png": "[encoded data removed]",
      "text/plain": [
       "<Figure size 720x504 with 1 Axes>"
      ]
     },
     "metadata": {
      "needs_background": "light"
     },
     "output_type": "display_data"
    }
   ],
   "source": [
    "plt.figure(figsize = (10,7))\n",
    "plt.hist(xi[:,0].to(\"cpu\").detach().numpy(), alpha = 0.5, bins = 20, label =\"source\", density = True)\n",
    "plt.hist(xi[:,0].to(\"cpu\").detach().numpy(),weights = w_ring.detach().numpy() , alpha = 0.5, bins = 20, label =\"reweighted-source\", density = True)\n",
    "plt.hist(xi_ring[:,0].to(\"cpu\").detach().numpy(), alpha = 0.5, bins = 20, label =\"target\", density = True)\n",
    "plt.legend()"
   ]
  },
  {
   "cell_type": "code",
   "execution_count": null,
   "id": "fe7f8061-fed6-410f-8533-ebfbaf00232f",
   "metadata": {},
   "outputs": [],
   "source": []
  }
 ],
 "metadata": {
  "kernelspec": {
   "display_name": "Python 3",
   "language": "python",
   "name": "python3"
  },
  "language_info": {
   "codemirror_mode": {
    "name": "ipython",
    "version": 3
   },
   "file_extension": ".py",
   "mimetype": "text/x-python",
   "name": "python",
   "nbconvert_exporter": "python",
   "pygments_lexer": "ipython3",
   "version": "3.8.8"
  }
 },
 "nbformat": 4,
 "nbformat_minor": 5
}
